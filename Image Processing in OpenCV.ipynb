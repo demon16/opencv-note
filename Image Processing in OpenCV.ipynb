{
 "cells": [
  {
   "cell_type": "markdown",
   "metadata": {},
   "source": [
    "## Template Matching"
   ]
  },
  {
   "cell_type": "markdown",
   "metadata": {},
   "source": [
    "### Template Matching in OpenCV (TODO)\n"
   ]
  },
  {
   "cell_type": "markdown",
   "metadata": {},
   "source": [
    "### Template Matching with Multiple Objects"
   ]
  },
  {
   "cell_type": "markdown",
   "metadata": {},
   "source": [
    "### OCR"
   ]
  },
  {
   "cell_type": "markdown",
   "metadata": {},
   "source": [
    "### the raw image is here\n",
    "\n",
    "![stock.png](./images/stock.png)"
   ]
  },
  {
   "cell_type": "markdown",
   "metadata": {},
   "source": [
    "### by the following code, we can get the content"
   ]
  },
  {
   "cell_type": "code",
   "execution_count": 1,
   "metadata": {
    "scrolled": false
   },
   "outputs": [
    {
     "name": "stdout",
     "output_type": "stream",
     "text": [
      "['207', '476', '1466', '2380', '4487']\n",
      "['2200', '37', '190', '1', '5']\n",
      "['2', '35', '50', '3', '20']\n",
      "['751', '105', '301', '282', '122']\n",
      "['7', '24', '4', '23', '376']\n",
      "['4', '4', '105', '23', '36']\n",
      "['1572', '4', '66', '34', '21']\n",
      "['51', '40', '30', '10', '5']\n",
      "['14', '2', '10', '8', '5']\n",
      "['3', '65', '8', '6', '30']\n",
      "['2', '17', '10', '5', '1']\n",
      "['10', '7', '100', '5', '5']\n",
      "['5', '100', '10', '1', '10']\n",
      "['10', '1', '3', '10', '2']\n",
      "['6', '170', '14', '5', '1']\n",
      "['11', '5', '1', '1', '10']\n",
      "['21', '10', '2', '24', '76']\n",
      "['1', '15', '99', '2', '2']\n",
      "['380', '3', '14', '10', '5']\n",
      "['2', '2', '10', '10', '10']\n",
      "['33', '2', '1', '13', '19']\n",
      "['11', '5', '11', '20', '5']\n"
     ]
    }
   ],
   "source": [
    "import os\n",
    "import cv2\n",
    "import numpy as np\n",
    "import collections\n",
    "\n",
    "img_rgb = cv2.imread('./images/stock.png')\n",
    "result = []\n",
    "def detect(img_rgb):\n",
    "    def group(ls: list):\n",
    "        s = ''\n",
    "        for index, value in enumerate(ls):\n",
    "            if index < len(ls)-1 and ls[index+1][0] - value[0] < 10:\n",
    "                s += value[1]\n",
    "            else:\n",
    "                s += value[1]\n",
    "                result.append(s)\n",
    "                s = ''\n",
    "    path = './images/templates'\n",
    "    res = collections.defaultdict(list)\n",
    "\n",
    "    img_gray = cv2.cvtColor(img_rgb, cv2.COLOR_BGR2GRAY)\n",
    "\n",
    "    for name in os.listdir(path):\n",
    "        if not name.endswith('.png'):\n",
    "            continue\n",
    "        template = cv2.imread(os.path.join(path, name), 0)\n",
    "        temp = cv2.matchTemplate(img_gray, template, cv2.TM_CCOEFF_NORMED)\n",
    "        loc = np.where(temp>=0.98)\n",
    "        num = name.split('.')[0]\n",
    "        for i in zip(*loc):\n",
    "            res[i[0]].append((i[1], num))\n",
    "    # sort\n",
    "    res = sorted(res.items())\n",
    "    [r[1].sort()for r in res]\n",
    "\n",
    "    [group(r[1]) for r in res]\n",
    "\n",
    "detect(img_rgb)\n",
    "\n",
    "for i in range(0, len(result), 5):\n",
    "    print(result[i: i+5])\n"
   ]
  },
  {
   "cell_type": "markdown",
   "metadata": {},
   "source": [
    "# Image Thresholding"
   ]
  },
  {
   "cell_type": "markdown",
   "metadata": {},
   "source": [
    "### Simple Thresholding"
   ]
  },
  {
   "cell_type": "markdown",
   "metadata": {},
   "source": [
    "#### cv.threshold()\n",
    "params:\n",
    "  - First argument is the source Image, which **should be a grayscale image**\n",
    "  - Second argument is the threshold value which is used to classify the pixle values\n",
    "  - Third argument is the maxVal which represents the value to be given if pixel value is more than (sometimes less than) the threshod value\n",
    "  - Fourth argument set different styles of thresholding\n",
    "    - cv2.THRESH_BINARY\n",
    "    - cv2.THRESH_BINARY_INV\n",
    "    - cv2.THRESH_TRUNC\n",
    "    - cv2.THRESH_TOZERO\n",
    "    - cv2.THRESH_TOZERO_INV\n",
    "return:\n",
    "  - First on is **retval**\n",
    "  - Second output is our **threshold image**"
   ]
  },
  {
   "cell_type": "code",
   "execution_count": 7,
   "metadata": {},
   "outputs": [],
   "source": [
    "import cv2\n",
    "import numpy as np\n",
    "from matplotlib import pyplot as plt\n",
    "\n",
    "img = cv2.imread('gradient.png',0)\n",
    "ret,thresh1 = cv2.threshold(img,127,255,cv2.THRESH_BINARY)\n",
    "ret,thresh2 = cv2.threshold(img,127,255,cv2.THRESH_BINARY_INV)\n",
    "ret,thresh3 = cv2.threshold(img,127,255,cv2.THRESH_TRUNC)\n",
    "ret,thresh4 = cv2.threshold(img,127,255,cv2.THRESH_TOZERO)\n",
    "ret,thresh5 = cv2.threshold(img,127,255,cv2.THRESH_TOZERO_INV)\n",
    "\n",
    "titles = ['Original Image','BINARY','BINARY_INV','TRUNC','TOZERO','TOZERO_INV']\n",
    "images = [img, thresh1, thresh2, thresh3, thresh4, thresh5]\n",
    "\n",
    "# for i in range(6):\n",
    "#     plt.subplot(2,3,i+1),plt.imshow(images[i],'gray')\n",
    "#     plt.title(titles[i])\n",
    "#     plt.xticks([]),plt.yticks([])\n",
    "\n",
    "# plt.show()"
   ]
  },
  {
   "cell_type": "markdown",
   "metadata": {},
   "source": [
    "the result is given below:\n",
    "![threshold](./images/threshold.jpg)"
   ]
  }
 ],
 "metadata": {
  "kernelspec": {
   "display_name": "Python 3",
   "language": "python",
   "name": "python3"
  },
  "language_info": {
   "codemirror_mode": {
    "name": "ipython",
    "version": 3
   },
   "file_extension": ".py",
   "mimetype": "text/x-python",
   "name": "python",
   "nbconvert_exporter": "python",
   "pygments_lexer": "ipython3",
   "version": "3.6.3"
  }
 },
 "nbformat": 4,
 "nbformat_minor": 2
}
